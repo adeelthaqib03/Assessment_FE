{
 "cells": [
  {
   "cell_type": "code",
   "execution_count": 253,
   "metadata": {},
   "outputs": [],
   "source": [
    "import pandas as pd\n",
    "\n",
    "def transform(path1, path2):\n",
    "    data = pd.read_csv(\"file.csv\")\n",
    "    data = data.drop_duplicates(subset=\"Name\")\n",
    "    data['Date']=pd.to_datetime(data['Date'])\n",
    "    data['Date'] = data['Date'].dt.strftime('%d-%m-%Y')\n",
    "    data = data.sort_values(by='Date', ascending = False)\n",
    "    for i in data['Date']:\n",
    "        if data['Date'].agg(['max'])[0] == i:\n",
    "            data['Date'] = pd.Timestamp(\"today\").strftime(\"%d-%m-%Y\")\n",
    "    data.to_csv(path2)\n",
    "            \n",
    "if __name__ == \"__main__\":\n",
    "    path1 = 'file.csv'\n",
    "    path2 = 'file_output.csv'\n",
    "    transform(path1, path2)\n"
   ]
  }
 ],
 "metadata": {
  "kernelspec": {
   "display_name": "myproject",
   "language": "python",
   "name": "python3"
  },
  "language_info": {
   "codemirror_mode": {
    "name": "ipython",
    "version": 3
   },
   "file_extension": ".py",
   "mimetype": "text/x-python",
   "name": "python",
   "nbconvert_exporter": "python",
   "pygments_lexer": "ipython3",
   "version": "3.7.0"
  },
  "orig_nbformat": 4
 },
 "nbformat": 4,
 "nbformat_minor": 2
}
